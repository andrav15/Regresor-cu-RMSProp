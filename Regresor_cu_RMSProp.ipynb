{
  "nbformat": 4,
  "nbformat_minor": 0,
  "metadata": {
    "colab": {
      "provenance": [],
      "authorship_tag": "ABX9TyNNlUga38ffdumRzmutVDVN",
      "include_colab_link": true
    },
    "kernelspec": {
      "name": "python3",
      "display_name": "Python 3"
    },
    "language_info": {
      "name": "python"
    }
  },
  "cells": [
    {
      "cell_type": "markdown",
      "metadata": {
        "id": "view-in-github",
        "colab_type": "text"
      },
      "source": [
        "<a href=\"https://colab.research.google.com/github/andrav15/Regresor-cu-RMSProp/blob/main/Regresor_cu_RMSProp.ipynb\" target=\"_parent\"><img src=\"https://colab.research.google.com/assets/colab-badge.svg\" alt=\"Open In Colab\"/></a>"
      ]
    },
    {
      "cell_type": "code",
      "execution_count": 1,
      "metadata": {
        "id": "_jqSYd8ovvnD"
      },
      "outputs": [],
      "source": [
        "import torch\n",
        "import math"
      ]
    },
    {
      "cell_type": "code",
      "source": [
        "x = torch.linspace(-math.pi, math.pi, 2000)\n",
        "y = torch.sin(x)"
      ],
      "metadata": {
        "id": "6kKqcWN2v277"
      },
      "execution_count": 2,
      "outputs": []
    },
    {
      "cell_type": "code",
      "source": [
        "p = torch.tensor([1, 2, 3])\n",
        "xx = x.unsqueeze(-1).pow(p)"
      ],
      "metadata": {
        "id": "l4Hb4ONVv4rM"
      },
      "execution_count": 3,
      "outputs": []
    },
    {
      "cell_type": "code",
      "source": [
        "model = torch.nn.Sequential(\n",
        "    torch.nn.Linear(3, 1),\n",
        "    torch.nn.Flatten(0, 1)\n",
        ")\n",
        "loss_fn = torch.nn.MSELoss(reduction='sum')"
      ],
      "metadata": {
        "id": "aFw4-lGiv5o9"
      },
      "execution_count": 4,
      "outputs": []
    },
    {
      "cell_type": "code",
      "source": [
        "learning_rate = 1e-3\n",
        "optimizer = torch.optim.RMSprop(model.parameters(), lr=learning_rate)\n",
        "#alg adaptiv care ajusteaza rata de invatare in fct de medii ale gread anterioare->eficient pt modele complexe"
      ],
      "metadata": {
        "id": "xHd3Ii1cv812"
      },
      "execution_count": 5,
      "outputs": []
    },
    {
      "cell_type": "code",
      "source": [
        "for t in range(2000):#2000 de epoci\n",
        "    # Forward pass: compute predicted y by passing x to the model.\n",
        "    y_pred = model(xx)#pt fiecare epoca calc predictia\n",
        "\n",
        "    # Compute and print loss.\n",
        "    loss = loss_fn(y_pred, y)#evalueaza pierderea:compara predictiile y_pred cu val reale y si calc fol MSE\n",
        "    if t % 100 == 99:#verif daca t este un multiplu de 100 pt a afisa la fiecare 100 de epoci\n",
        "        print(t, loss.item())\n",
        "    optimizer.zero_grad()#reseteaza grad pt a evita acumularea lor in iteratie\n",
        "    loss.backward()#calc grad pierderii in raport cu toti param(w,bias)->>backward pass\n",
        "\n",
        "    # Calling the step function on an Optimizer makes an update to its\n",
        "    # parameters\n",
        "    optimizer.step()#actual param modelului pe baza grad calc anterior"
      ],
      "metadata": {
        "colab": {
          "base_uri": "https://localhost:8080/"
        },
        "id": "_5szpwubwY7d",
        "outputId": "a90e079b-6c76-4061-98dc-a86016f29f70"
      },
      "execution_count": 6,
      "outputs": [
        {
          "output_type": "stream",
          "name": "stdout",
          "text": [
            "99 1921.40576171875\n",
            "199 1080.858154296875\n",
            "299 750.5764770507812\n",
            "399 550.827880859375\n",
            "499 394.33740234375\n",
            "599 272.32659912109375\n",
            "699 180.60595703125\n",
            "799 114.37262725830078\n",
            "899 68.4815673828125\n",
            "999 38.34697341918945\n",
            "1099 20.60174560546875\n",
            "1199 12.113051414489746\n",
            "1299 9.44906234741211\n",
            "1399 8.93481731414795\n",
            "1499 8.881324768066406\n",
            "1599 8.89744758605957\n",
            "1699 8.915643692016602\n",
            "1799 8.909490585327148\n",
            "1899 8.905550003051758\n",
            "1999 8.906500816345215\n"
          ]
        }
      ]
    },
    {
      "cell_type": "code",
      "source": [
        "linear_layer = model[0]\n",
        "print(f'Result: y = {linear_layer.bias.item()} + {linear_layer.weight[:, 0].item()} x + {linear_layer.weight[:, 1].item()} x^2 + {linear_layer.weight[:, 2].item()} x^3')"
      ],
      "metadata": {
        "colab": {
          "base_uri": "https://localhost:8080/"
        },
        "id": "r_yjdgR5xOso",
        "outputId": "91367594-6150-48ab-fa68-210486dc1079"
      },
      "execution_count": 7,
      "outputs": [
        {
          "output_type": "stream",
          "name": "stdout",
          "text": [
            "Result: y = -2.1269748685881495e-05 + 0.8562446236610413 x + -2.1295207261573523e-05 x^2 + -0.09382952749729156 x^3\n"
          ]
        }
      ]
    }
  ]
}